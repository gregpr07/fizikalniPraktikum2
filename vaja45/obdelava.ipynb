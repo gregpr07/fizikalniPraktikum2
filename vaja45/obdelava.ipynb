{
 "cells": [
  {
   "cell_type": "code",
   "execution_count": 56,
   "metadata": {},
   "outputs": [],
   "source": [
    "import csv\n",
    "from scipy.optimize import curve_fit\n",
    "import math\n",
    "import matplotlib.pyplot as plt\n",
    "import numpy as np\n",
    "import pandas as pd"
   ]
  },
  {
   "cell_type": "code",
   "execution_count": 57,
   "metadata": {
    "scrolled": false
   },
   "outputs": [
    {
     "name": "stdout",
     "output_type": "stream",
     "text": [
      "     M    Ih     I\n",
      "0  1.0  2890  1421\n",
      "1  1.2  2889  1841\n",
      "2  1.4  2888  2147\n",
      "3  1.6  2888  2459\n",
      "4  1.8  2888  2774\n",
      "5  2.0  2890  3107\n"
     ]
    }
   ],
   "source": [
    "data = pd.read_csv('rezultati.csv')\n",
    "\n",
    "print(data)\n",
    "\n",
    "M = data['M']"
   ]
  },
  {
   "cell_type": "code",
   "execution_count": 61,
   "metadata": {
    "scrolled": false
   },
   "outputs": [
    {
     "name": "stdout",
     "output_type": "stream",
     "text": [
      "[78.83079607203665, 102.09519946666092, 119.02363922120293, 136.32004138096787, 153.7827550999613, 172.36262026447423] [1.0, 1.2, 1.4, 1.6, 1.8, 2.0]\n"
     ]
    }
   ],
   "source": [
    "def fit_func(x, a, b):\n",
    "    return x*a+b\n",
    "\n",
    "N = 3\n",
    "Nh = 154\n",
    "Rh = 0.2\n",
    "r = 0.1216/2\n",
    "\n",
    "S = math.pi*r**2\n",
    "\n",
    "mu0 = 4*math.pi*10**-7\n",
    "\n",
    "x = [(4/5)**(3/2) *N*Nh*S/Rh *row['I']*row['Ih']*10**-6 for index,row in data.iterrows()]\n",
    "y = list(M)\n",
    "print(x,y)"
   ]
  },
  {
   "cell_type": "code",
   "execution_count": 63,
   "metadata": {
    "scrolled": false
   },
   "outputs": [
    {
     "name": "stdout",
     "output_type": "stream",
     "text": [
      "a = 0.010910526615970717 +- 0.0002696765874045213 \n",
      "b = 0.11360838175029349 +- 0.03528978748733915\n"
     ]
    }
   ],
   "source": [
    "params = curve_fit(\n",
    "    fit_func, x, y)\n",
    "a = params[0][0]\n",
    "b = params[0][1]\n",
    "\n",
    "# CALCULATE ERRORS FROM MATRIX\n",
    "errs = np.sqrt(np.diag(params[1]))\n",
    "print('a =', a,'+-',errs[0], '\\nb =', b,'+-',errs[1])"
   ]
  },
  {
   "cell_type": "code",
   "execution_count": 65,
   "metadata": {},
   "outputs": [
    {
     "data": {
      "image/png": "[encoded data removed]",
      "text/plain": [
       "<Figure size 432x288 with 1 Axes>"
      ]
     },
     "metadata": {
      "needs_background": "light"
     },
     "output_type": "display_data"
    }
   ],
   "source": [
    "x_fit = np.linspace(x[0], x[-1], 100)\n",
    "\n",
    "y_fit = fit_func(x_fit, a, b)\n",
    "\n",
    "plt.plot(x, y, 'o')\n",
    "plt.plot(x_fit, y_fit, label=r'$k = \\mu_0$')\n",
    "\n",
    "plt.title(r'$M \\sim I$')\n",
    "plt.ylabel(r'$M$')\n",
    "plt.xlabel(r'$(\\frac{4}{5})^{3/2} \\frac{N N_h I_h S}{R_h}\\cdot I$')\n",
    "\n",
    "#plt.grid(True)\n",
    "\n",
    "plt.legend()\n",
    "plt.show()"
   ]
  }
 ],
 "metadata": {
  "file_extension": ".py",
  "kernelspec": {
   "display_name": "Python 3.7.4 64-bit ('base': conda)",
   "language": "python",
   "name": "python37464bitbasecondad88a0fa7b781497481168e5190228017"
  },
  "language_info": {
   "codemirror_mode": {
    "name": "ipython",
    "version": 3
   },
   "file_extension": ".py",
   "mimetype": "text/x-python",
   "name": "python",
   "nbconvert_exporter": "python",
   "pygments_lexer": "ipython3",
   "version": "3.7.4"
  },
  "mimetype": "text/x-python",
  "name": "python",
  "npconvert_exporter": "python",
  "pygments_lexer": "ipython3",
  "version": 3
 },
 "nbformat": 4,
 "nbformat_minor": 2
}
