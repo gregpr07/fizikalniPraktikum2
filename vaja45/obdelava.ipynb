{
 "cells": [
  {
   "cell_type": "code",
   "execution_count": 2,
   "metadata": {},
   "outputs": [],
   "source": [
    "import csv\n",
    "from scipy.optimize import curve_fit\n",
    "import math\n",
    "import matplotlib.pyplot as plt\n",
    "import numpy as np\n",
    "\n",
    "M = []\n",
    "I = []\n",
    "\n",
    "with open('rezultati.csv') as csvDataFile:\n",
    "    csvReader = csv.reader(csvDataFile)\n",
    "    for row in csvReader:\n",
    "        M.append(float(row[0]))\n",
    "        I.append(float(row[2]))"
   ]
  },
  {
   "cell_type": "code",
   "execution_count": 15,
   "metadata": {
    "scrolled": true
   },
   "outputs": [
    {
     "name": "stdout",
     "output_type": "stream",
     "text": [
      "[1.0, 1.2, 1.4, 1.6, 1.8, 2.0] [1421.0, 1841.0, 2147.0, 2459.0, 2774.0, 3107.0]\n"
     ]
    }
   ],
   "source": [
    "print(M,I)"
   ]
  },
  {
   "cell_type": "code",
   "execution_count": 37,
   "metadata": {
    "scrolled": false
   },
   "outputs": [
    {
     "name": "stdout",
     "output_type": "stream",
     "text": [
      "[9.899314511698038e-05, 0.00012825220278702386, 0.00014956951623234122, 0.0001713048162158021, 0.00019324910946833467, 0.00021644736233529773] [1.0, 1.2, 1.4, 1.6, 1.8, 2.0]\n"
     ]
    }
   ],
   "source": [
    "def fit_func(x, a, b):\n",
    "    return x*a+b\n",
    "\n",
    "N = 3\n",
    "Nh = 154\n",
    "Rh = 0.2\n",
    "Ih = 2.888\n",
    "r = 0.1216/2\n",
    "\n",
    "S = math.pi*r**2\n",
    "\n",
    "mu0 = 4*math.pi*10**-7\n",
    "\n",
    "x = [(4/5)**(3/2)*N*Nh*Ih*S/Rh *x/1000*mu0 for x in I]\n",
    "y = M\n",
    "print(x,y)"
   ]
  },
  {
   "cell_type": "code",
   "execution_count": 38,
   "metadata": {
    "scrolled": true
   },
   "outputs": [
    {
     "name": "stdout",
     "output_type": "stream",
     "text": [
      "naklon grafa: a = 8684.944604687593 , b = 0.11356996284246611 err= 0.024908891799584568\n"
     ]
    }
   ],
   "source": [
    "params = curve_fit(\n",
    "    fit_func, x, y)\n",
    "a = params[0][0]\n",
    "b = params[0][1]\n",
    "\n",
    "err = params[1][0][0]**(1/2)/a\n",
    "print('naklon grafa: a =', a, ', b =', b, 'err=', err)"
   ]
  },
  {
   "cell_type": "code",
   "execution_count": 39,
   "metadata": {
    "scrolled": true
   },
   "outputs": [
    {
     "data": {
      "image/png": "[encoded data removed]",
      "text/plain": [
       "<Figure size 432x288 with 1 Axes>"
      ]
     },
     "metadata": {
      "needs_background": "light"
     },
     "output_type": "display_data"
    }
   ],
   "source": [
    "x_fit = np.linspace(x[0], x[-1], 100)\n",
    "\n",
    "y_fit = fit_func(x_fit, a, b)\n",
    "\n",
    "plt.plot(x, y, 'o')\n",
    "plt.plot(x_fit, y_fit, label=r'$k = \\mu_0$')\n",
    "\n",
    "plt.title(r'$M \\sim I$')\n",
    "plt.ylabel(r'$M$')\n",
    "plt.xlabel(r'$(\\frac{4}{5})^{3/2} \\frac{N N_h I_h S}{R_h}\\cdot I$')\n",
    "\n",
    "#plt.grid(True)\n",
    "\n",
    "plt.legend()\n",
    "plt.show()"
   ]
  },
  {
   "cell_type": "code",
   "execution_count": null,
   "metadata": {},
   "outputs": [],
   "source": []
  }
 ],
 "metadata": {
  "file_extension": ".py",
  "kernelspec": {
   "display_name": "Python 3.7.4 64-bit ('base': conda)",
   "language": "python",
   "name": "python37464bitbasecondad88a0fa7b781497481168e5190228017"
  },
  "language_info": {
   "codemirror_mode": {
    "name": "ipython",
    "version": 3
   },
   "file_extension": ".py",
   "mimetype": "text/x-python",
   "name": "python",
   "nbconvert_exporter": "python",
   "pygments_lexer": "ipython3",
   "version": "3.7.4"
  },
  "mimetype": "text/x-python",
  "name": "python",
  "npconvert_exporter": "python",
  "pygments_lexer": "ipython3",
  "version": 3
 },
 "nbformat": 4,
 "nbformat_minor": 2
}
