{
 "cells": [
  {
   "cell_type": "markdown",
   "metadata": {},
   "source": [
    "# Obdelava 40. vaje\n",
    "\n",
    "## WHEATSTONOV MOST\n",
    "\n",
    "Gregor Žunič, 21.4.2020"
   ]
  },
  {
   "cell_type": "markdown",
   "metadata": {},
   "source": [
    "## Uvod\n",
    "\n",
    "Če na električni prevodnik delujemo z enosmerno napetostjo $U$, skozi njega teče tok $I$. Razmere med napetostjo in tokom je upor $R$:\n",
    "$$ R = \\frac{U}{I} $$\n",
    "$ R = [\\Omega =  \\frac{V}{A}] $ (ohm).\n",
    "Upor je odvisen od oblike upornika in njegovega specifičnega upora $\\zeta$. Velja enačba\n",
    "$$ R = \\frac{\\zeta l}{S} $$\n",
    "$l$ je dolžina, $S$ pa presek upornika.\n",
    "Upor se da zelo natančno meriti z Wheatstonovim mostom, na katerem primerjamo\n",
    "napetosti v dveh tokovnih vejah električnega kroga (glej sliko). Pri odklopljenem\n",
    "galvanometru se napetost med točkama $A$ in $B$ razdeli v prvi veji v razmerju $\\frac{R_1}{R_2}$, v drugi veji pa $\\frac{R_3}{R_4}$. Če je razmerje enako, toka po sredini (galvanometer) ni.\n",
    "En upor lahko izračunamo kot\n",
    "$$ \\frac{R_1}{R_2} = \\frac{R_3}{R_4} $$\n",
    "Pri šolski izvedbi je ena veja Wheatstonovega mosta, npr. ADB, narejena iz\n",
    "enakomerno debele uporovne žice. Upora $R_3$ in $R_4$ sta tedaj sorazmerna z dolžinama\n",
    "odsekov $AD = a$ in $DB = l − a$. Z drsnikom poiščemo tisto točko $D$, pri kateri skozi\n",
    "galvanometer ni toka. Neznani upor je:\n",
    "$$ R_x = R_0 \\frac{a}{l-a} $$"
   ]
  },
  {
   "cell_type": "markdown",
   "metadata": {},
   "source": [
    "## Naloga\n",
    "\n",
    "Izmeri upora danega upornika in žice. Izračunaj specifični upor žice!"
   ]
  },
  {
   "cell_type": "markdown",
   "metadata": {},
   "source": [
    "## Obdelava in rezultati"
   ]
  },
  {
   "cell_type": "code",
   "execution_count": 55,
   "metadata": {},
   "outputs": [],
   "source": [
    "import csv\n",
    "from scipy.optimize import curve_fit\n",
    "from scipy import stats\n",
    "import math\n",
    "import matplotlib.pyplot as plt\n",
    "import numpy as np\n",
    "import pandas as pd\n",
    "from IPython.display import display, Image\n",
    "from tabela_negotovosti_v1 import Negotovost"
   ]
  },
  {
   "cell_type": "markdown",
   "metadata": {},
   "source": [
    "## 1. del"
   ]
  },
  {
   "cell_type": "code",
   "execution_count": 56,
   "metadata": {},
   "outputs": [
    {
     "data": {
      "text/html": [
       "<div>\n",
       "<style scoped>\n",
       "    .dataframe tbody tr th:only-of-type {\n",
       "        vertical-align: middle;\n",
       "    }\n",
       "\n",
       "    .dataframe tbody tr th {\n",
       "        vertical-align: top;\n",
       "    }\n",
       "\n",
       "    .dataframe thead th {\n",
       "        text-align: right;\n",
       "    }\n",
       "</style>\n",
       "<table border=\"1\" class=\"dataframe\">\n",
       "  <thead>\n",
       "    <tr style=\"text-align: right;\">\n",
       "      <th></th>\n",
       "      <th>R0</th>\n",
       "      <th>a</th>\n",
       "      <th>l-a</th>\n",
       "    </tr>\n",
       "  </thead>\n",
       "  <tbody>\n",
       "    <tr>\n",
       "      <th>0</th>\n",
       "      <td>2000</td>\n",
       "      <td>77.9</td>\n",
       "      <td>23.8</td>\n",
       "    </tr>\n",
       "    <tr>\n",
       "      <th>1</th>\n",
       "      <td>3000</td>\n",
       "      <td>68.9</td>\n",
       "      <td>32.2</td>\n",
       "    </tr>\n",
       "    <tr>\n",
       "      <th>2</th>\n",
       "      <td>4000</td>\n",
       "      <td>61.9</td>\n",
       "      <td>37.1</td>\n",
       "    </tr>\n",
       "    <tr>\n",
       "      <th>3</th>\n",
       "      <td>5000</td>\n",
       "      <td>57.6</td>\n",
       "      <td>44.6</td>\n",
       "    </tr>\n",
       "    <tr>\n",
       "      <th>4</th>\n",
       "      <td>6000</td>\n",
       "      <td>51.7</td>\n",
       "      <td>49.3</td>\n",
       "    </tr>\n",
       "    <tr>\n",
       "      <th>5</th>\n",
       "      <td>7000</td>\n",
       "      <td>47.6</td>\n",
       "      <td>52.4</td>\n",
       "    </tr>\n",
       "    <tr>\n",
       "      <th>6</th>\n",
       "      <td>8000</td>\n",
       "      <td>44.2</td>\n",
       "      <td>56.3</td>\n",
       "    </tr>\n",
       "    <tr>\n",
       "      <th>7</th>\n",
       "      <td>9000</td>\n",
       "      <td>42.3</td>\n",
       "      <td>60.3</td>\n",
       "    </tr>\n",
       "    <tr>\n",
       "      <th>8</th>\n",
       "      <td>10000</td>\n",
       "      <td>37.7</td>\n",
       "      <td>60.5</td>\n",
       "    </tr>\n",
       "  </tbody>\n",
       "</table>\n",
       "</div>"
      ],
      "text/plain": [
       "      R0     a   l-a\n",
       "0   2000  77.9  23.8\n",
       "1   3000  68.9  32.2\n",
       "2   4000  61.9  37.1\n",
       "3   5000  57.6  44.6\n",
       "4   6000  51.7  49.3\n",
       "5   7000  47.6  52.4\n",
       "6   8000  44.2  56.3\n",
       "7   9000  42.3  60.3\n",
       "8  10000  37.7  60.5"
      ]
     },
     "metadata": {},
     "output_type": "display_data"
    }
   ],
   "source": [
    "#podatki za prvo zico\n",
    "l1 = (101.3, 0.2) # cm\n",
    "d1 = (0.22, 0.02) # mm\n",
    "\n",
    "podatki_zica1 = pd.read_csv(\"meritve_zica1.csv\", comment='#')\n",
    "# ohm, cm, cm\n",
    "display(podatki_zica1)"
   ]
  },
  {
   "cell_type": "markdown",
   "metadata": {},
   "source": [
    "$R_x$ torej izračunamo po formuli\n",
    "$$ R_x = R_0 \\frac{a}{l-a} $$\n",
    "tako, da narišemo graf."
   ]
  },
  {
   "cell_type": "code",
   "execution_count": 57,
   "metadata": {},
   "outputs": [
    {
     "name": "stdout",
     "output_type": "stream",
     "text": [
      "0    0.305520\n",
      "1    0.467344\n",
      "2    0.599354\n",
      "3    0.774306\n",
      "4    0.953578\n",
      "5    1.100840\n",
      "6    1.273756\n",
      "7    1.425532\n",
      "8    1.604775\n",
      "dtype: float64 0     2000\n",
      "1     3000\n",
      "2     4000\n",
      "3     5000\n",
      "4     6000\n",
      "5     7000\n",
      "6     8000\n",
      "7     9000\n",
      "8    10000\n",
      "Name: R0, dtype: int64\n"
     ]
    }
   ],
   "source": [
    "y = podatki_zica1['R0']\n",
    "x = podatki_zica1['l-a'] / podatki_zica1['a']\n",
    "print(x,y)"
   ]
  },
  {
   "cell_type": "code",
   "execution_count": 58,
   "metadata": {},
   "outputs": [],
   "source": [
    "def fit_func(x, a, b):\n",
    "    return x*a+b"
   ]
  },
  {
   "cell_type": "code",
   "execution_count": 59,
   "metadata": {},
   "outputs": [],
   "source": [
    "def draw_calc(x,y,num):\n",
    "    params = curve_fit(\n",
    "        fit_func, x, y)\n",
    "    a = params[0][0]\n",
    "    b = params[0][1]\n",
    "\n",
    "    # CALCULATE ERRORS FROM MATRIX\n",
    "    errs = np.sqrt(np.diag(params[1]))\n",
    "    print('a =', a,'Ohm','+-',errs[0],'Ohm', '\\nb =', b,'+-',errs[1])\n",
    "\n",
    "    x_fit = np.linspace(0, max(x), 100)\n",
    "\n",
    "    y_fit = fit_func(x_fit,a, b)\n",
    "\n",
    "    plt.plot(x, y, 'o')\n",
    "    plt.plot(x_fit, y_fit, label=r'k = $R_x$')\n",
    "\n",
    "    plt.title(f'Izračun neznanega upora - {num} žica')\n",
    "    plt.xlabel(r'$\\frac{l-a}{a}$')\n",
    "    plt.ylabel(r'$R_0$ [$\\Omega$]')\n",
    "\n",
    "    plt.legend()\n",
    "    plt.show()\n",
    "    \n",
    "    return (a,errs[0])"
   ]
  },
  {
   "cell_type": "code",
   "execution_count": 60,
   "metadata": {
    "scrolled": false
   },
   "outputs": [
    {
     "name": "stdout",
     "output_type": "stream",
     "text": [
      "a = 6151.994324278348 Ohm +- 57.75843983983768 Ohm \n",
      "b = 186.3626249672531 +- 59.71967980060212\n"
     ]
    },
    {
     "data": {
      "image/png": "[encoded data removed]",
      "text/plain": [
       "<Figure size 432x288 with 1 Axes>"
      ]
     },
     "metadata": {
      "needs_background": "light"
     },
     "output_type": "display_data"
    }
   ],
   "source": [
    "omega1 = draw_calc(x,y,1)"
   ]
  },
  {
   "cell_type": "markdown",
   "metadata": {},
   "source": [
    "Upor neznanega upornika $R_x = 5151 \\pm 58 \\: \\Omega$.\n",
    "Napaka je izračunana po metodi MSQE."
   ]
  },
  {
   "cell_type": "markdown",
   "metadata": {},
   "source": [
    "## 2. del\n",
    "\n",
    "Izračun za uporovno žico"
   ]
  },
  {
   "cell_type": "code",
   "execution_count": 61,
   "metadata": {
    "scrolled": true
   },
   "outputs": [
    {
     "data": {
      "text/html": [
       "<div>\n",
       "<style scoped>\n",
       "    .dataframe tbody tr th:only-of-type {\n",
       "        vertical-align: middle;\n",
       "    }\n",
       "\n",
       "    .dataframe tbody tr th {\n",
       "        vertical-align: top;\n",
       "    }\n",
       "\n",
       "    .dataframe thead th {\n",
       "        text-align: right;\n",
       "    }\n",
       "</style>\n",
       "<table border=\"1\" class=\"dataframe\">\n",
       "  <thead>\n",
       "    <tr style=\"text-align: right;\">\n",
       "      <th></th>\n",
       "      <th>R0</th>\n",
       "      <th>a</th>\n",
       "      <th>l-a</th>\n",
       "    </tr>\n",
       "  </thead>\n",
       "  <tbody>\n",
       "    <tr>\n",
       "      <th>0</th>\n",
       "      <td>5</td>\n",
       "      <td>61.6</td>\n",
       "      <td>37.1</td>\n",
       "    </tr>\n",
       "    <tr>\n",
       "      <th>1</th>\n",
       "      <td>6</td>\n",
       "      <td>57.0</td>\n",
       "      <td>42.6</td>\n",
       "    </tr>\n",
       "    <tr>\n",
       "      <th>2</th>\n",
       "      <td>6</td>\n",
       "      <td>53.9</td>\n",
       "      <td>47.4</td>\n",
       "    </tr>\n",
       "    <tr>\n",
       "      <th>3</th>\n",
       "      <td>8</td>\n",
       "      <td>50.1</td>\n",
       "      <td>50.6</td>\n",
       "    </tr>\n",
       "    <tr>\n",
       "      <th>4</th>\n",
       "      <td>9</td>\n",
       "      <td>46.4</td>\n",
       "      <td>55.2</td>\n",
       "    </tr>\n",
       "    <tr>\n",
       "      <th>5</th>\n",
       "      <td>10</td>\n",
       "      <td>44.1</td>\n",
       "      <td>56.8</td>\n",
       "    </tr>\n",
       "  </tbody>\n",
       "</table>\n",
       "</div>"
      ],
      "text/plain": [
       "   R0     a   l-a\n",
       "0   5  61.6  37.1\n",
       "1   6  57.0  42.6\n",
       "2   6  53.9  47.4\n",
       "3   8  50.1  50.6\n",
       "4   9  46.4  55.2\n",
       "5  10  44.1  56.8"
      ]
     },
     "metadata": {},
     "output_type": "display_data"
    }
   ],
   "source": [
    "#podatki za uporovno zico\n",
    "l2 = (103.6, 0.2) # cm\n",
    "d2 = (0.44, 0.02) # mm\n",
    "\n",
    "uporovna_zica = pd.read_csv(\"meritve_zica2.csv\", comment='#')\n",
    "# ohm, cm, cm\n",
    "display(uporovna_zica)"
   ]
  },
  {
   "cell_type": "code",
   "execution_count": 62,
   "metadata": {
    "scrolled": true
   },
   "outputs": [
    {
     "name": "stdout",
     "output_type": "stream",
     "text": [
      "0    0.602273\n",
      "1    0.747368\n",
      "2    0.879406\n",
      "3    1.009980\n",
      "4    1.189655\n",
      "5    1.287982\n",
      "dtype: float64 0     5\n",
      "1     6\n",
      "2     6\n",
      "3     8\n",
      "4     9\n",
      "5    10\n",
      "Name: R0, dtype: int64\n"
     ]
    }
   ],
   "source": [
    "y = uporovna_zica['R0']\n",
    "x = uporovna_zica['l-a'] / uporovna_zica['a']\n",
    "print(x,y)"
   ]
  },
  {
   "cell_type": "code",
   "execution_count": 63,
   "metadata": {
    "scrolled": false
   },
   "outputs": [
    {
     "name": "stdout",
     "output_type": "stream",
     "text": [
      "a = 7.354018743649618 Ohm +- 0.7777726117043551 Ohm \n",
      "b = 0.32659031826364493 +- 0.7639666592908864\n"
     ]
    },
    {
     "data": {
      "image/png": "[encoded data removed]",
      "text/plain": [
       "<Figure size 432x288 with 1 Axes>"
      ]
     },
     "metadata": {
      "needs_background": "light"
     },
     "output_type": "display_data"
    }
   ],
   "source": [
    "omega_zica = draw_calc(x,y,'uporovna')"
   ]
  },
  {
   "cell_type": "markdown",
   "metadata": {},
   "source": [
    "Upor uporne žice $R_z = 7.34 \\pm 0.78 \\: \\Omega$.\n",
    "\n",
    "Specifični upor žice lahko zračunamo kot:\n",
    "$$ \\zeta = \\frac{R S}{l} $$"
   ]
  },
  {
   "cell_type": "code",
   "execution_count": 64,
   "metadata": {},
   "outputs": [
    {
     "data": {
      "text/html": [
       "<style>table.dataframe{font-size: 16px;}</style>"
      ],
      "text/plain": [
       "<IPython.core.display.HTML object>"
      ]
     },
     "metadata": {},
     "output_type": "display_data"
    },
    {
     "data": {
      "text/latex": [
       "$\\zeta=\\frac{\\pi R_{z} d^{2}}{4 l}$"
      ],
      "text/plain": [
       "<IPython.core.display.Latex object>"
      ]
     },
     "metadata": {},
     "output_type": "display_data"
    },
    {
     "data": {
      "text/html": [
       "<div>\n",
       "<style scoped>\n",
       "    .dataframe tbody tr th:only-of-type {\n",
       "        vertical-align: middle;\n",
       "    }\n",
       "\n",
       "    .dataframe tbody tr th {\n",
       "        vertical-align: top;\n",
       "    }\n",
       "\n",
       "    .dataframe thead th {\n",
       "        text-align: right;\n",
       "    }\n",
       "</style>\n",
       "<table border=\"1\" class=\"dataframe\">\n",
       "  <thead>\n",
       "    <tr style=\"text-align: right;\">\n",
       "      <th></th>\n",
       "      <th>$\\frac{\\partial \\zeta}{\\partial x_i}$</th>\n",
       "      <th>$\\sigma_i$</th>\n",
       "      <th>$\\sigma_i \\cdot \\frac{\\partial \\zeta}{\\partial x_i}$</th>\n",
       "    </tr>\n",
       "  </thead>\n",
       "  <tbody>\n",
       "    <tr>\n",
       "      <th>$R_{z}$</th>\n",
       "      <td>$\\frac{\\pi d^{2}}{4 l}$</td>\n",
       "      <td>7.7777E-01</td>\n",
       "      <td>1.1415E-07</td>\n",
       "    </tr>\n",
       "    <tr>\n",
       "      <th>$d$</th>\n",
       "      <td>$\\frac{\\pi R_{z} d}{2 l}$</td>\n",
       "      <td>2.0000E-05</td>\n",
       "      <td>9.8122E-08</td>\n",
       "    </tr>\n",
       "    <tr>\n",
       "      <th>$l$</th>\n",
       "      <td>$- \\frac{\\pi R_{z} d^{2}}{4 l^{2}}$</td>\n",
       "      <td>2.0000E-03</td>\n",
       "      <td>-2.0837E-09</td>\n",
       "    </tr>\n",
       "  </tbody>\n",
       "</table>\n",
       "</div>"
      ],
      "text/plain": [
       "        $\\frac{\\partial \\zeta}{\\partial x_i}$  $\\sigma_i$  \\\n",
       "$R_{z}$               $\\frac{\\pi d^{2}}{4 l}$  7.7777E-01   \n",
       "$d$                 $\\frac{\\pi R_{z} d}{2 l}$  2.0000E-05   \n",
       "$l$       $- \\frac{\\pi R_{z} d^{2}}{4 l^{2}}$  2.0000E-03   \n",
       "\n",
       "        $\\sigma_i \\cdot \\frac{\\partial \\zeta}{\\partial x_i}$  \n",
       "$R_{z}$                                           1.1415E-07  \n",
       "$d$                                               9.8122E-08  \n",
       "$l$                                              -2.0837E-09  "
      ]
     },
     "metadata": {},
     "output_type": "display_data"
    },
    {
     "data": {
      "text/latex": [
       "$\\zeta = (1.0793E-06 \\pm 1.5054E-07) \\:\\Omega m$"
      ],
      "text/plain": [
       "<IPython.core.display.Latex object>"
      ]
     },
     "metadata": {},
     "output_type": "display_data"
    }
   ],
   "source": [
    "data = [\n",
    "        ('R_z', omega_zica[0], omega_zica[1]),\n",
    "        ('d', d2[0]*10**-3, d2[1]*10**-3),\n",
    "        ('l', l2[0]*10**-2, l2[1]*10**-2),\n",
    "    ]\n",
    "\n",
    "function = 'R_z * (pi*(d/2)^2) / l'\n",
    "\n",
    "Negotovost(data,function,floating_points=4).draw_table(units=r'\\Omega m',text_size=16,variable='\\zeta')"
   ]
  },
  {
   "cell_type": "markdown",
   "metadata": {},
   "source": [
    "Specifični upor žice je\n",
    "$$ \\zeta = (1.07 \\pm 0.15) \\cdot 10^{-6} \\: \\Omega m $$"
   ]
  },
  {
   "cell_type": "markdown",
   "metadata": {},
   "source": [
    "## Vprašanja & odgovori\n",
    "\n",
    "1. Kolikšna je relativna napaka rezultata, ki jo prinese nenatančno odčitavanje, če si določil lego drsnika na 0,5 mm natančno pri 1 m dolgi merilni žici?\n",
    "Odvisno kako merimo oba dela, ampak ker smo merili oba dela posebej, zato ne pride do kolerirane napake, torej se relativne napake obeh meritev samo seštejeta. ($ \\delta a + \\delta (l-a) $)\n",
    "Če bi x zmerili samo enkrat bi bila nato napak malo drugačna, ($\\Delta a \\cdot \\frac{\\delta(l-a)/a}{\\delta a}$).\n",
    "\n",
    "\n",
    "2. Kako je relativna napaka rezultata odvisna od razmerja R x /R 0 , torej od lege točke D? Katero že omenjeno navodilo sledi iz tega?\n",
    "Je enako razmerju $\\frac{a}{l-a}$. Napaka razmerja je enaka napaki iz prejšnega vprašanja."
   ]
  }
 ],
 "metadata": {
  "kernelspec": {
   "display_name": "Python 3",
   "language": "python",
   "name": "python3"
  },
  "language_info": {
   "codemirror_mode": {
    "name": "ipython",
    "version": 3
   },
   "file_extension": ".py",
   "mimetype": "text/x-python",
   "name": "python",
   "nbconvert_exporter": "python",
   "pygments_lexer": "ipython3",
   "version": "3.7.6"
  }
 },
 "nbformat": 4,
 "nbformat_minor": 4
}
