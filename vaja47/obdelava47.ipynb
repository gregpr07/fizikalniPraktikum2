{
 "cells": [
  {
   "cell_type": "markdown",
   "metadata": {},
   "source": [
    "# Obdelava 47. vaje\n",
    "\n",
    "## SILA MED PLOŠČAMA KONDENZATORJA\n",
    "\n",
    "Gregor Žunič, 11.5.2020"
   ]
  },
  {
   "cell_type": "markdown",
   "metadata": {},
   "source": [
    "## Uvod\n",
    "\n",
    "Zaradi električnih privlačnih sil med nasprotnima nabojema se elektrodi kondenzatorja privlačita. To si ogledamo pri ploščatem kondenzatorju, ki ima plošči s ploščino $S$ v razmiku $d$. Kapaciteta kondenzatorja je tedaj $C = \\frac{ε0S}{d}$. Pritisnimo na plošči napetost $U$. Sila $F$ med ploščama je enaka produktu naboja na prvi plošči in poljske jakosti, ki bi jo dobili samo z nabojem na drugi plošči.\n",
    "$$ F = e_1 E_2 $$\n",
    "pri tem je $e_1 = CU$ in $E_2 = \\frac{U}{2d}$.\n",
    "\n",
    "Z izrazom za kapaciteto sledi\n",
    "$$ F = \\frac{CU^2}{2d} = \\frac{\\epsilon_0SU^2}{2d^2} .$$\n",
    "\n",
    "Tudi pri drugače oblikovanih elektrodah je sila sorazmerna s kvadratom napetosti. V statičnih voltmetrih izkoriščamo silo med elektrodama za merjenje napetosti."
   ]
  },
  {
   "cell_type": "markdown",
   "metadata": {},
   "source": [
    "## Naloga\n",
    "\n",
    "Izmeri silo med ploščama danega kondenzatorja v odvisnosti od napetosti in določi električno konstanto!"
   ]
  },
  {
   "cell_type": "markdown",
   "metadata": {},
   "source": [
    "## Obdelava in rezultati"
   ]
  },
  {
   "cell_type": "code",
   "execution_count": 2,
   "metadata": {},
   "outputs": [],
   "source": [
    "from scipy.optimize import curve_fit\n",
    "import scipy.constants as const\n",
    "import matplotlib.pyplot as plt\n",
    "import numpy as np\n",
    "import pandas as pd\n",
    "from IPython.display import display, Image, IFrame\n",
    "from negotovost import Negotovost"
   ]
  },
  {
   "cell_type": "code",
   "execution_count": 22,
   "metadata": {},
   "outputs": [
    {
     "name": "stdout",
     "output_type": "stream",
     "text": [
      "m [kg], U[V]\n"
     ]
    }
   ],
   "source": [
    "podatki = pd.read_csv('podatki.csv', comment='#')\n",
    "print('m [kg], U[V]')"
   ]
  },
  {
   "cell_type": "code",
   "execution_count": 23,
   "metadata": {},
   "outputs": [
    {
     "data": {
      "text/html": [
       "<div>\n",
       "<style scoped>\n",
       "    .dataframe tbody tr th:only-of-type {\n",
       "        vertical-align: middle;\n",
       "    }\n",
       "\n",
       "    .dataframe tbody tr th {\n",
       "        vertical-align: top;\n",
       "    }\n",
       "\n",
       "    .dataframe thead th {\n",
       "        text-align: right;\n",
       "    }\n",
       "</style>\n",
       "<table border=\"1\" class=\"dataframe\">\n",
       "  <thead>\n",
       "    <tr style=\"text-align: right;\">\n",
       "      <th></th>\n",
       "      <th>m</th>\n",
       "      <th>U1</th>\n",
       "      <th>U2</th>\n",
       "      <th>U3</th>\n",
       "      <th>U</th>\n",
       "    </tr>\n",
       "  </thead>\n",
       "  <tbody>\n",
       "    <tr>\n",
       "      <th>0</th>\n",
       "      <td>0.0001</td>\n",
       "      <td>310</td>\n",
       "      <td>340</td>\n",
       "      <td>310</td>\n",
       "      <td>320.000000</td>\n",
       "    </tr>\n",
       "    <tr>\n",
       "      <th>1</th>\n",
       "      <td>0.0003</td>\n",
       "      <td>730</td>\n",
       "      <td>680</td>\n",
       "      <td>780</td>\n",
       "      <td>730.000000</td>\n",
       "    </tr>\n",
       "    <tr>\n",
       "      <th>2</th>\n",
       "      <td>0.0005</td>\n",
       "      <td>790</td>\n",
       "      <td>960</td>\n",
       "      <td>970</td>\n",
       "      <td>906.666667</td>\n",
       "    </tr>\n",
       "    <tr>\n",
       "      <th>3</th>\n",
       "      <td>0.0007</td>\n",
       "      <td>1320</td>\n",
       "      <td>1260</td>\n",
       "      <td>1340</td>\n",
       "      <td>1306.666667</td>\n",
       "    </tr>\n",
       "    <tr>\n",
       "      <th>4</th>\n",
       "      <td>0.0009</td>\n",
       "      <td>1190</td>\n",
       "      <td>1260</td>\n",
       "      <td>1340</td>\n",
       "      <td>1263.333333</td>\n",
       "    </tr>\n",
       "    <tr>\n",
       "      <th>5</th>\n",
       "      <td>0.0011</td>\n",
       "      <td>1740</td>\n",
       "      <td>1450</td>\n",
       "      <td>1520</td>\n",
       "      <td>1570.000000</td>\n",
       "    </tr>\n",
       "    <tr>\n",
       "      <th>6</th>\n",
       "      <td>0.0013</td>\n",
       "      <td>1650</td>\n",
       "      <td>1490</td>\n",
       "      <td>1550</td>\n",
       "      <td>1563.333333</td>\n",
       "    </tr>\n",
       "    <tr>\n",
       "      <th>7</th>\n",
       "      <td>0.0015</td>\n",
       "      <td>1860</td>\n",
       "      <td>1740</td>\n",
       "      <td>1840</td>\n",
       "      <td>1813.333333</td>\n",
       "    </tr>\n",
       "    <tr>\n",
       "      <th>8</th>\n",
       "      <td>0.0017</td>\n",
       "      <td>1810</td>\n",
       "      <td>1820</td>\n",
       "      <td>1710</td>\n",
       "      <td>1780.000000</td>\n",
       "    </tr>\n",
       "  </tbody>\n",
       "</table>\n",
       "</div>"
      ],
      "text/plain": [
       "        m    U1    U2    U3            U\n",
       "0  0.0001   310   340   310   320.000000\n",
       "1  0.0003   730   680   780   730.000000\n",
       "2  0.0005   790   960   970   906.666667\n",
       "3  0.0007  1320  1260  1340  1306.666667\n",
       "4  0.0009  1190  1260  1340  1263.333333\n",
       "5  0.0011  1740  1450  1520  1570.000000\n",
       "6  0.0013  1650  1490  1550  1563.333333\n",
       "7  0.0015  1860  1740  1840  1813.333333\n",
       "8  0.0017  1810  1820  1710  1780.000000"
      ]
     },
     "metadata": {},
     "output_type": "display_data"
    }
   ],
   "source": [
    "podatki['U'] = (podatki['U1']+podatki['U2']+podatki['U3'])/3\n",
    "podatki['m'] = podatki['m']/1000\n",
    "display(podatki)"
   ]
  },
  {
   "cell_type": "code",
   "execution_count": 7,
   "metadata": {},
   "outputs": [],
   "source": [
    "def fit_func(x, a, b):\n",
    "    return x*a+b"
   ]
  },
  {
   "cell_type": "code",
   "execution_count": 10,
   "metadata": {
    "scrolled": true
   },
   "outputs": [
    {
     "name": "stdout",
     "output_type": "stream",
     "text": [
      "a = 2044274064.1872363 V^2/kg +- 155775589.13272265 V^2/kg \n",
      "b = -48044.1851551852 +- 161636.70800737425\n"
     ]
    }
   ],
   "source": [
    "x = podatki['m']\n",
    "y = podatki['U']**2\n",
    "\n",
    "params = curve_fit(fit_func, x, y)\n",
    "a,b = params[0]\n",
    "\n",
    "# CALCULATE ERRORS FROM MATRIX\n",
    "errs = np.sqrt(np.diag(params[1]))\n",
    "print('a =', a,'V^2/kg','+-',errs[0],'V^2/kg', '\\nb =', b,'+-',errs[1])\n",
    "\n",
    "k = (a,errs[0])"
   ]
  },
  {
   "cell_type": "code",
   "execution_count": 19,
   "metadata": {},
   "outputs": [
    {
     "data": {
      "image/png": "[encoded data removed]",
      "text/plain": [
       "<Figure size 432x288 with 1 Axes>"
      ]
     },
     "metadata": {
      "needs_background": "light"
     },
     "output_type": "display_data"
    }
   ],
   "source": [
    "y_fit = fit_func(x, a, b)\n",
    "\n",
    "plt.plot(x, y, 'o')\n",
    "plt.plot(x, y_fit, label=r'k')\n",
    "\n",
    "plt.title(r'Odvisnost med napetostjo in maso')\n",
    "plt.ylabel(r'$ U^2 \\; [V^2] $')\n",
    "plt.xlabel(r'$m \\: [kg]$')\n",
    "\n",
    "plt.grid()\n",
    "plt.legend()\n",
    "plt.show()"
   ]
  },
  {
   "cell_type": "markdown",
   "metadata": {},
   "source": [
    "Koeficient na grafu je $ k = (2.04 \\pm 0.16) \\cdot 10^{9} \\: \\frac{V^2}{kg}$"
   ]
  },
  {
   "cell_type": "markdown",
   "metadata": {},
   "source": [
    "Sedaj lahko enačbe obrnemo:\n",
    "\n",
    "$$ F = \\frac{\\epsilon_0SU^2}{2d^2} $$\n",
    "\n",
    "$$ \\epsilon_0 = \\frac{F2d^2}{SU^2} $$\n",
    "\n",
    "$$ \\epsilon_0 = \\frac{2d^2 g}{\\pi r^2 k} $$"
   ]
  },
  {
   "cell_type": "code",
   "execution_count": 20,
   "metadata": {},
   "outputs": [
    {
     "data": {
      "text/html": [
       "<style>table.dataframe{font-size: 16px;}</style>"
      ],
      "text/plain": [
       "<IPython.core.display.HTML object>"
      ]
     },
     "metadata": {},
     "output_type": "display_data"
    },
    {
     "data": {
      "text/latex": [
       "$\\epsilon_0=\\frac{2 d^{2} g}{\\pi k r^{2}}$"
      ],
      "text/plain": [
       "<IPython.core.display.Latex object>"
      ]
     },
     "metadata": {},
     "output_type": "display_data"
    },
    {
     "data": {
      "text/html": [
       "<div>\n",
       "<style scoped>\n",
       "    .dataframe tbody tr th:only-of-type {\n",
       "        vertical-align: middle;\n",
       "    }\n",
       "\n",
       "    .dataframe tbody tr th {\n",
       "        vertical-align: top;\n",
       "    }\n",
       "\n",
       "    .dataframe thead th {\n",
       "        text-align: right;\n",
       "    }\n",
       "</style>\n",
       "<table border=\"1\" class=\"dataframe\">\n",
       "  <thead>\n",
       "    <tr style=\"text-align: right;\">\n",
       "      <th></th>\n",
       "      <th>$\\frac{\\partial \\epsilon_0}{\\partial x_i}$</th>\n",
       "      <th>$\\sigma_i$</th>\n",
       "      <th>$\\sigma_i \\cdot \\frac{\\partial \\epsilon_0}{\\partial x_i} $</th>\n",
       "    </tr>\n",
       "  </thead>\n",
       "  <tbody>\n",
       "    <tr>\n",
       "      <th>$k$</th>\n",
       "      <td>$- \\frac{2 d^{2} g}{\\pi k^{2} r^{2}}$</td>\n",
       "      <td>$1.558E08\\; V^2/m$</td>\n",
       "      <td>$-6.707E-13\\;F/m$</td>\n",
       "    </tr>\n",
       "    <tr>\n",
       "      <th>$d$</th>\n",
       "      <td>$\\frac{4 d g}{\\pi k r^{2}}$</td>\n",
       "      <td>$1.000E-04\\; m$</td>\n",
       "      <td>$3.452E-13\\;F/m$</td>\n",
       "    </tr>\n",
       "    <tr>\n",
       "      <th>$r$</th>\n",
       "      <td>$- \\frac{4 d^{2} g}{\\pi k r^{3}}$</td>\n",
       "      <td>$1.000E-03\\; m$</td>\n",
       "      <td>$-1.853E-13\\;F/m$</td>\n",
       "    </tr>\n",
       "    <tr>\n",
       "      <th>$g$</th>\n",
       "      <td>$\\frac{2 d^{2}}{\\pi k r^{2}}$</td>\n",
       "      <td>$1.000E-02\\; N/kg$</td>\n",
       "      <td>$8.975E-15\\;F/m$</td>\n",
       "    </tr>\n",
       "  </tbody>\n",
       "</table>\n",
       "</div>"
      ],
      "text/plain": [
       "    $\\frac{\\partial \\epsilon_0}{\\partial x_i}$          $\\sigma_i$  \\\n",
       "$k$      $- \\frac{2 d^{2} g}{\\pi k^{2} r^{2}}$  $1.558E08\\; V^2/m$   \n",
       "$d$                $\\frac{4 d g}{\\pi k r^{2}}$     $1.000E-04\\; m$   \n",
       "$r$          $- \\frac{4 d^{2} g}{\\pi k r^{3}}$     $1.000E-03\\; m$   \n",
       "$g$              $\\frac{2 d^{2}}{\\pi k r^{2}}$  $1.000E-02\\; N/kg$   \n",
       "\n",
       "    $\\sigma_i \\cdot \\frac{\\partial \\epsilon_0}{\\partial x_i} $  \n",
       "$k$                                          $-6.707E-13\\;F/m$  \n",
       "$d$                                           $3.452E-13\\;F/m$  \n",
       "$r$                                          $-1.853E-13\\;F/m$  \n",
       "$g$                                           $8.975E-15\\;F/m$  "
      ]
     },
     "metadata": {},
     "output_type": "display_data"
    },
    {
     "data": {
      "text/latex": [
       "$\\epsilon_0 = (8.801E-12 \\pm 7.768E-13) \\:F/m$"
      ],
      "text/plain": [
       "<IPython.core.display.Latex object>"
      ]
     },
     "metadata": {},
     "output_type": "display_data"
    }
   ],
   "source": [
    "d = (0.0051,0.0001) #m\n",
    "r = (0.19/2,0.001) #m\n",
    "\n",
    "data = [\n",
    "    ('k',k[0],k[1],'V^2/m'),\n",
    "    ('d',d[0],d[1],'m'),\n",
    "    ('r',r[0],r[1],'m'),\n",
    "    ('g',const.g,0.01,'N/kg')\n",
    "    ]\n",
    "\n",
    "function = '2*d^2*g/(pi*r^2*k)'\n",
    "\n",
    "negotovost = Negotovost(data,function,floating_points=3)\n",
    "negotovost.draw_table(units=r'F/m',text_size=16,variable='\\epsilon_0')"
   ]
  },
  {
   "cell_type": "markdown",
   "metadata": {},
   "source": [
    "Izračunana konstanta iz podatkov je\n",
    "$$ \\epsilon_0 = (8.80 \\pm 0.78) \\cdot 10^{-12} \\: \\frac{F}{m} $$\n",
    "\n",
    "To je zelo blizu električni konstanti. To razliko bi lahko mogoče celo pripisali, da je drugačna zaradi medija, vendar je bolj verjetna zgolj merska napaka."
   ]
  },
  {
   "cell_type": "code",
   "execution_count": 15,
   "metadata": {},
   "outputs": [
    {
     "name": "stdout",
     "output_type": "stream",
     "text": [
      "8.854187817620389e-12\n"
     ]
    }
   ],
   "source": [
    "print(const.epsilon_0)"
   ]
  },
  {
   "cell_type": "code",
   "execution_count": 21,
   "metadata": {
    "scrolled": true
   },
   "outputs": [
    {
     "name": "stdout",
     "output_type": "stream",
     "text": [
      "0.005115253137858021 m\n"
     ]
    }
   ],
   "source": [
    "d = np.sqrt( const.epsilon_0 * np.pi * r[0]**2 * k[0] /(2*const.g))\n",
    "print(d,'m')"
   ]
  },
  {
   "cell_type": "markdown",
   "metadata": {},
   "source": [
    "Razdalja izračunana v obratno smer je skoraj enaka."
   ]
  }
 ],
 "metadata": {
  "kernelspec": {
   "display_name": "Python 3",
   "language": "python",
   "name": "python3"
  },
  "language_info": {
   "codemirror_mode": {
    "name": "ipython",
    "version": 3
   },
   "file_extension": ".py",
   "mimetype": "text/x-python",
   "name": "python",
   "nbconvert_exporter": "python",
   "pygments_lexer": "ipython3",
   "version": "3.7.6"
  }
 },
 "nbformat": 4,
 "nbformat_minor": 4
}
