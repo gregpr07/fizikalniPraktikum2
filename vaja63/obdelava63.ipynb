{
 "cells": [
  {
   "cell_type": "markdown",
   "metadata": {},
   "source": [
    "# Obdelava 63. vaje\n",
    "\n",
    "## MERITEV SPEKTRA Z UKLONSKO MREŽICO\n",
    "\n",
    "Gregor Žunič, 12.5.2020"
   ]
  },
  {
   "cell_type": "markdown",
   "metadata": {},
   "source": [
    "## Uvod\n",
    "\n",
    "Za uklonsko mrežico vzamemo prozorno ploščico, v katero so enakomerno, na gosto zarezane tanke črte. Med zarezami je še dovolj neranjenega površja, ki nemoteno prepušča svetlobo. Razmik med zaporednima zarezama imenujemo mrežno konstanto.\n",
    "Mrežico osvetlimo s pravokotno vpadajočim vzporednim curkom enobarvne svetlobe, ki ga omejimo z ozko režo. Svetloba se pri prehodu skozi reže, to je skozi pasove med zarezami, uklanja. Curki uklonjene svetlobe med seboj interferirajo, pri čemer se ojačijo v smereh, v katerih je razlika poti za svetlobo iz dveh sosednjih rež enaka\n",
    "mnogokratniku valovne dolžine:\n",
    "$$ d \\cdot sin{\\alpha} = n \\lambda $$\n",
    "\n",
    "Pri tem je $d$ mrežna konstanta, $α$ pa kot med smerjo vpadajočega in uklonjenega curka. Na oddaljenem zaslonu dobimo poleg sledi neuklonjenega curka še simetrično razporejene sledi uklonjenih curkov (uklonske slike reže) prvega reda ($n = \\pm 1 $), drugega reda ($ n =  \\pm 2$) itd. Najvišji red, ki ga pri izbrani svetlobi lahko opazujemo z dano mrežico, je določeno z razmerjem $d/λ$.\n",
    "\n",
    "Če zasučemo mrežico tako, da oklepa pravokotnica na mrežico kot $\\phi$ s smerjo vpadajočega curka, se uklonjeni curki premaknejo. Dobimo jih v smereh $\\theta$ in $\\theta ' $ glede na vpadli curek, v katerih velja\n",
    "\n",
    "$$ d [ \\sin( \\theta' + \\phi) - \\sin{\\phi} ] = n \\lambda $$\n",
    "$$ d [ \\sin{\\phi} + \\sin( \\theta' - \\phi)  ] = n \\lambda $$\n",
    "\n",
    "Pri računanju z enačbama je potrebno paziti na definicijo in s tem na predznak kotov $ \\theta, \\theta '$ in $\\phi$.\n",
    "\n"
   ]
  }
 ],
 "metadata": {
  "kernelspec": {
   "display_name": "Python 3",
   "language": "python",
   "name": "python3"
  },
  "language_info": {
   "codemirror_mode": {
    "name": "ipython",
    "version": 3
   },
   "file_extension": ".py",
   "mimetype": "text/x-python",
   "name": "python",
   "nbconvert_exporter": "python",
   "pygments_lexer": "ipython3",
   "version": "3.7.6"
  }
 },
 "nbformat": 4,
 "nbformat_minor": 4
}
