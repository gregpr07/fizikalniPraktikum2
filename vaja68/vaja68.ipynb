{
 "cells": [
  {
   "cell_type": "markdown",
   "metadata": {},
   "source": [
    "# Obdelava 68. vaje\n",
    "\n",
    "Gregor Žunič\n"
   ],
   "execution_count": null,
   "outputs": []
  },
  {
   "cell_type": "code",
   "execution_count": null,
   "metadata": {},
   "outputs": [],
   "source": [
    "import csv\n",
    "from scipy.optimize import curve_fit\n",
    "import math\n",
    "import matplotlib.pyplot as plt\n",
    "import numpy as np\n",
    "import pandas as pd\n",
    "from IPython.display import display"
   ]
  },
  {
   "cell_type": "markdown",
   "metadata": {},
   "source": [
    "### Prvi del\n",
    "\n",
    "$\\lambda = 365 \\: nm$"
   ],
   "execution_count": null,
   "outputs": []
  },
  {
   "cell_type": "code",
   "execution_count": null,
   "metadata": {},
   "outputs": [],
   "source": [
    "data = pd.read_csv('lambda_365nm.csv')\n",
    "\n",
    "lightspeed = 299792458 # m/s\n",
    "\n",
    "Uz = list(data['Uz']) # mV\n",
    "I = list(data['I']) # A\n",
    "\n",
    "display(data)"
   ]
  },
  {
   "cell_type": "code",
   "execution_count": null,
   "metadata": {},
   "outputs": [],
   "source": [
    "def fit_func(x, a, b):\n",
    "    return x*a+b\n",
    "\n",
    "x = Uz\n",
    "y = I"
   ]
  },
  {
   "cell_type": "code",
   "execution_count": null,
   "metadata": {
    "scrolled": true
   },
   "outputs": [],
   "source": [
    "params = curve_fit(\n",
    "    fit_func, x[:-2], y[:-2])\n",
    "a = params[0][0]\n",
    "b = params[0][1]\n",
    "\n",
    "# CALCULATE ERRORS FROM MATRIX\n",
    "errs = np.sqrt(np.diag(params[1]))\n",
    "print('naklon grafa: a =', a,'+-',errs[0], '\\nb =', b,'+-',errs[1])"
   ]
  },
  {
   "cell_type": "code",
   "execution_count": null,
   "metadata": {
    "scrolled": true
   },
   "outputs": [],
   "source": [
    "x_fit = np.linspace(x[0], x[-1], 100)\n",
    "\n",
    "y_fit = fit_func(x_fit, a, b)\n",
    "\n",
    "plt.plot(x, y, 'o')\n",
    "plt.plot(x_fit, y_fit, label=r'$k = h$')\n",
    "\n",
    "plt.title(r'$Uz \\sim I$')\n",
    "plt.xlabel(r'$Uz \\: [mV]$')\n",
    "plt.ylabel(r'$I \\: [A]$')\n",
    "\n",
    "plt.grid(True)\n",
    "\n",
    "plt.legend()\n",
    "plt.show()"
   ]
  },
  {
   "cell_type": "markdown",
   "metadata": {},
   "source": [
    "Iz grafa je očitno, da velja linearna zveza med zaporno napetostjo in tokom, ki ga proizvedejo elektroni."
   ],
   "execution_count": null,
   "outputs": []
  },
  {
   "cell_type": "markdown",
   "metadata": {},
   "source": [
    "## Za vse\n",
    "\n",
    "$\\lambda \\neq const$"
   ],
   "execution_count": null,
   "outputs": []
  },
  {
   "cell_type": "code",
   "execution_count": null,
   "metadata": {},
   "outputs": [],
   "source": [
    "data = pd.read_csv('izstopneU.csv').sort_values(by='U')\n",
    "\n",
    "lambdas = list(data['lambda']) # nm\n",
    "Um = list(data['U']) # mV\n",
    "\n",
    "display(data)"
   ]
  },
  {
   "cell_type": "code",
   "execution_count": null,
   "metadata": {},
   "outputs": [],
   "source": [
    "x = [lightspeed/(mu*10**-9) for mu in lambdas]\n",
    "y = [x/1000 for x in Um]"
   ]
  },
  {
   "cell_type": "code",
   "execution_count": null,
   "metadata": {},
   "outputs": [],
   "source": [
    "params = curve_fit(\n",
    "    fit_func, x, y)\n",
    "a = params[0][0]\n",
    "b = params[0][1]\n",
    "\n",
    "# CALCULATE ERRORS FROM MATRIX\n",
    "errs = np.sqrt(np.diag(params[1]))\n",
    "print('naklon grafa: a =', a,'+-',errs[0], '\\nb =', b,'+-',errs[1])"
   ]
  },
  {
   "cell_type": "code",
   "execution_count": null,
   "metadata": {
    "scrolled": true
   },
   "outputs": [],
   "source": [
    "x_fit = np.linspace(0, x[-1]+x[-1]*0.1)\n",
    "\n",
    "y_fit = fit_func(x_fit, a, b)\n",
    "\n",
    "plt.plot(x, y, 'o')\n",
    "plt.plot(x_fit, y_fit, label=r'$k = ?$')\n",
    "\n",
    "plt.title(r'$Um \\sim \\lambda$')\n",
    "plt.ylabel(r'$Um \\: [V]$')\n",
    "plt.xlabel(r'$\\lambda \\: [nm]$')\n",
    "\n",
    "plt.ylim([-0.1,max(y_fit)])\n",
    "plt.xlim([3.5*10**14,max(x_fit)])\n",
    "\n",
    "plt.grid(True)\n",
    "\n",
    "plt.legend()\n",
    "plt.show()"
   ]
  },
  {
   "cell_type": "markdown",
   "metadata": {},
   "source": [
    "Iz grafa je vidno, da se zaporna napetost linearno povečuje z valovno dolžino svetlobe, ki pada na fotocelico."
   ],
   "execution_count": null,
   "outputs": []
  },
  {
   "cell_type": "markdown",
   "metadata": {},
   "source": [
    "#### Rezultati\n",
    "\n",
    "$ eU = h \\nu + A_i $\n",
    "\n",
    "Planckova konstanta: \n",
    "$ h = (3.93 \\pm 0.03 )\\cdot 10^{-15} \\: eVs $\n",
    "\n",
    "Izstopno delo: \n",
    "$ A_i = - 1.56 \\pm 0.03\\: eV $"
   ],
   "execution_count": null,
   "outputs": []
  }
 ],
 "metadata": {
  "file_extension": ".py",
  "kernelspec": {
   "display_name": "Python 3",
   "language": "python",
   "name": "python3"
  },
  "language_info": {
   "codemirror_mode": {
    "name": "ipython",
    "version": 3
   },
   "file_extension": ".py",
   "mimetype": "text/x-python",
   "name": "python",
   "nbconvert_exporter": "python",
   "pygments_lexer": "ipython3",
   "version": "3.7.1-final"
  },
  "mimetype": "text/x-python",
  "name": "python",
  "npconvert_exporter": "python",
  "pygments_lexer": "ipython3",
  "version": 3
 },
 "nbformat": 4,
 "nbformat_minor": 2
}