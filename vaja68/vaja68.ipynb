{
 "cells": [
  {
   "cell_type": "code",
   "execution_count": 2,
   "metadata": {},
   "outputs": [],
   "source": [
    "import csv\n",
    "from scipy.optimize import curve_fit\n",
    "import math\n",
    "import matplotlib.pyplot as plt\n",
    "import numpy as np\n",
    "import pandas as pd"
   ]
  },
  {
   "cell_type": "markdown",
   "metadata": {},
   "source": [
    "### Prvi del\n",
    "\n",
    "$\\lambda = 365 \\: nm$"
   ]
  },
  {
   "cell_type": "code",
   "execution_count": 3,
   "metadata": {},
   "outputs": [],
   "source": [
    "data = pd.read_csv('lambda_365nm.csv')\n",
    "\n",
    "lightspeed = 299792458 # m/s\n",
    "\n",
    "Uz = list(data['Uz']) # mV\n",
    "I = list(data['I']) # A"
   ]
  },
  {
   "cell_type": "code",
   "execution_count": 4,
   "metadata": {},
   "outputs": [
    {
     "name": "stdout",
     "output_type": "stream",
     "text": [
      "[0, 154, 226, 305, 401, 523, 651, 743, 812, 927, 1158, 1291, 1405, 1560, 1677] [590, 500, 475, 445, 395, 340, 285, 245, 220, 181, 107, 66, 34, 8, 0]\n"
     ]
    }
   ],
   "source": [
    "def fit_func(x, a, b):\n",
    "    return x*a+b\n",
    "\n",
    "x = Uz\n",
    "y = I\n",
    "print(x,y)"
   ]
  },
  {
   "cell_type": "code",
   "execution_count": 5,
   "metadata": {
    "scrolled": true
   },
   "outputs": [
    {
     "name": "stdout",
     "output_type": "stream",
     "text": [
      "naklon grafa: a = -0.3927455546631995 +- 0.011676096454002227 \n",
      "b = 558.3877529134271 +- 9.204221433180102\n"
     ]
    }
   ],
   "source": [
    "params = curve_fit(\n",
    "    fit_func, x[:-2], y[:-2])\n",
    "a = params[0][0]\n",
    "b = params[0][1]\n",
    "\n",
    "# CALCULATE ERRORS FROM MATRIX\n",
    "errs = np.sqrt(np.diag(params[1]))\n",
    "print('naklon grafa: a =', a,'+-',errs[0], '\\nb =', b,'+-',errs[1])"
   ]
  },
  {
   "cell_type": "code",
   "execution_count": 6,
   "metadata": {
    "scrolled": true
   },
   "outputs": [
    {
     "data": {
      "image/png": "[encoded data removed]",
      "text/plain": [
       "<Figure size 432x288 with 1 Axes>"
      ]
     },
     "metadata": {
      "needs_background": "light"
     },
     "output_type": "display_data"
    }
   ],
   "source": [
    "x_fit = np.linspace(x[0], x[-1], 100)\n",
    "\n",
    "y_fit = fit_func(x_fit, a, b)\n",
    "\n",
    "plt.plot(x, y, 'o')\n",
    "plt.plot(x_fit, y_fit, label=r'$k = h$')\n",
    "\n",
    "plt.title(r'$Uz \\sim I$')\n",
    "plt.xlabel(r'$Uz \\: [mV]$')\n",
    "plt.ylabel(r'$I \\: [A]$')\n",
    "\n",
    "plt.grid(True)\n",
    "\n",
    "plt.legend()\n",
    "plt.show()"
   ]
  },
  {
   "cell_type": "markdown",
   "metadata": {},
   "source": [
    "## Za vse"
   ]
  },
  {
   "cell_type": "code",
   "execution_count": 7,
   "metadata": {},
   "outputs": [],
   "source": [
    "data = pd.read_csv('izstopneU.csv').sort_values(by='U')\n",
    "\n",
    "lambdas = list(data['lambda']) # nm\n",
    "Um = list(data['U']) # mV"
   ]
  },
  {
   "cell_type": "code",
   "execution_count": 9,
   "metadata": {},
   "outputs": [
    {
     "name": "stdout",
     "output_type": "stream",
     "text": [
      "[519570984402079.7, 549070435897435.9, 687597380733944.9, 740228291358024.6, 821349200000000.0] [0.484, 0.601, 1.154, 1.339, 1.677]\n"
     ]
    }
   ],
   "source": [
    "x = [lightspeed/(mu*10**-9) for mu in lambdas]\n",
    "y = [x/1000 for x in Um]\n",
    "print(x,y)"
   ]
  },
  {
   "cell_type": "code",
   "execution_count": 10,
   "metadata": {},
   "outputs": [
    {
     "name": "stdout",
     "output_type": "stream",
     "text": [
      "naklon grafa: a = 3.93432870439008e-15 +- 3.8145667846944667e-17 \n",
      "b = -1.559675975009778 +- 0.025684104153770218\n"
     ]
    }
   ],
   "source": [
    "params = curve_fit(\n",
    "    fit_func, x, y)\n",
    "a = params[0][0]\n",
    "b = params[0][1]\n",
    "\n",
    "# CALCULATE ERRORS FROM MATRIX\n",
    "errs = np.sqrt(np.diag(params[1]))\n",
    "print('naklon grafa: a =', a,'+-',errs[0], '\\nb =', b,'+-',errs[1])"
   ]
  },
  {
   "cell_type": "code",
   "execution_count": 11,
   "metadata": {
    "scrolled": true
   },
   "outputs": [
    {
     "data": {
      "image/png": "[encoded data removed]",
      "text/plain": [
       "<Figure size 432x288 with 1 Axes>"
      ]
     },
     "metadata": {
      "needs_background": "light"
     },
     "output_type": "display_data"
    }
   ],
   "source": [
    "x_fit = np.linspace(0, x[-1]+x[-1]*0.1)\n",
    "\n",
    "y_fit = fit_func(x_fit, a, b)\n",
    "\n",
    "plt.plot(x, y, 'o')\n",
    "plt.plot(x_fit, y_fit, label=r'$k = ?$')\n",
    "\n",
    "plt.title(r'$Um \\sim \\lambda$')\n",
    "plt.ylabel(r'$Um \\: [V]$')\n",
    "plt.xlabel(r'$\\lambda \\: [nm]$')\n",
    "\n",
    "plt.ylim([-0.1,max(y_fit)])\n",
    "plt.xlim([3.5*10**14,max(x_fit)])\n",
    "\n",
    "\n",
    "plt.grid(True)\n",
    "\n",
    "plt.legend()\n",
    "plt.show()"
   ]
  },
  {
   "cell_type": "markdown",
   "metadata": {},
   "source": [
    "#### Results\n",
    "\n",
    "$ eU = h \\nu + A_i $\n",
    "\n",
    "Planckova konstanta: \n",
    "$ h = (3.93 \\pm 0.03 )\\cdot 10^{-15} \\: eVs $\n",
    "\n",
    "Izstopno delo: \n",
    "$ A_i = - 1.56 \\pm 0.03\\: eV $"
   ]
  }
 ],
 "metadata": {
  "file_extension": ".py",
  "kernelspec": {
   "display_name": "Python 3",
   "language": "python",
   "name": "python3"
  },
  "language_info": {
   "codemirror_mode": {
    "name": "ipython",
    "version": 3
   },
   "file_extension": ".py",
   "mimetype": "text/x-python",
   "name": "python",
   "nbconvert_exporter": "python",
   "pygments_lexer": "ipython3",
   "version": "3.7.6"
  },
  "mimetype": "text/x-python",
  "name": "python",
  "npconvert_exporter": "python",
  "pygments_lexer": "ipython3",
  "version": 3
 },
 "nbformat": 4,
 "nbformat_minor": 2
}
